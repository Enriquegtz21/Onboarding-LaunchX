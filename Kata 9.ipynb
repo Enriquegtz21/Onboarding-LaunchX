{
 "cells": [
  {
   "cell_type": "markdown",
   "metadata": {},
   "source": [
    "# Ejercicio 1: Trabajar con argumentos en funciones"
   ]
  },
  {
   "cell_type": "code",
   "execution_count": 6,
   "metadata": {},
   "outputs": [
    {
     "name": "stdout",
     "output_type": "stream",
     "text": [
      "Reporte de los tanques:\n",
      "    Promedio: 63.333333333333336%\n",
      "    Tanque 1: 80%\n",
      "    Tanque 2: 50%\n",
      "    Tanque 3: 60% \n",
      "    \n"
     ]
    }
   ],
   "source": [
    "def informe(tanque1, tanque2, tanque3):\n",
    "    promedio_tanques = promedio(tanque1,tanque2,tanque3)\n",
    "    return f\"\"\"Reporte de los tanques:\n",
    "    Promedio: {promedio_tanques}%\n",
    "    Tanque 1: {tanque1}%\n",
    "    Tanque 2: {tanque2}%\n",
    "    Tanque 3: {tanque3}% \n",
    "    \"\"\"\n",
    "\n",
    "def promedio(*args):\n",
    "    promedio = sum(args)/len(args)\n",
    "    return promedio\n",
    "\n",
    "print(informe(80,50,60))\n",
    "    "
   ]
  },
  {
   "cell_type": "markdown",
   "metadata": {},
   "source": [
    "# Ejercicio : Trabajar con argumentos de palabras clave en funciones"
   ]
  },
  {
   "cell_type": "code",
   "execution_count": 15,
   "metadata": {},
   "outputs": [
    {
     "name": "stdout",
     "output_type": "stream",
     "text": [
      "\n",
      "    Mision con destino en Luna\n",
      "    Duración total: 26\n",
      "    Combustible total: 195000\n",
      "    Al tanque 'principal' le quedan: 15000 de combustible\n",
      "Al tanque 'propulsor' le quedan: 60000 de combustible\n",
      "Al tanque 'reserva' le quedan: 120000 de combustible\n",
      "\n"
     ]
    }
   ],
   "source": [
    "# Función con un informe preciso de la misión. Considera hora de prelanzamiento, tiempo de vuelo, destino, tanque externo y tanque interno\n",
    "def reporte(destino, *tiempo, **combustible):\n",
    "\n",
    "    reporte_final = f\"\"\"\n",
    "    Mision con destino en {destino}\n",
    "    Duración total: {sum(tiempo)}\n",
    "    Combustible total: {sum(combustible.values())}\n",
    "    \"\"\"\n",
    "    for tanque, combustible_faltante in combustible.items():\n",
    "        reporte_final += f\"Al tanque '{tanque}' le quedan: {combustible_faltante} de combustible\\n\"\n",
    "    return reporte_final\n",
    "\n",
    "print(reporte('Luna', 12,5,9, principal=15000, propulsor=60000, reserva = 120000))\n",
    "\n",
    "        "
   ]
  }
 ],
 "metadata": {
  "interpreter": {
   "hash": "179b05af3e25fbbb6c8c3b961c73d7cc449c9933619bcedee43c06a71ea81d4d"
  },
  "kernelspec": {
   "display_name": "Python 3.10.2 64-bit (system)",
   "language": "python",
   "name": "python3"
  },
  "language_info": {
   "codemirror_mode": {
    "name": "ipython",
    "version": 3
   },
   "file_extension": ".py",
   "mimetype": "text/x-python",
   "name": "python",
   "nbconvert_exporter": "python",
   "pygments_lexer": "ipython3",
   "version": "3.10.2"
  },
  "orig_nbformat": 4
 },
 "nbformat": 4,
 "nbformat_minor": 2
}
