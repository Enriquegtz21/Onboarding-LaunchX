{
 "cells": [
  {
   "cell_type": "markdown",
   "metadata": {},
   "source": [
    "# Ejercicio 1: Utilizar operadores aritméticos"
   ]
  },
  {
   "cell_type": "code",
   "execution_count": 11,
   "metadata": {},
   "outputs": [
    {
     "name": "stdout",
     "output_type": "stream",
     "text": [
      "La distancia entre los planetas es 628949330 kilómetros\n",
      "La distancia entre los planetas es 390577534 millas\n"
     ]
    }
   ],
   "source": [
    "Tierra = 149597870 #km\n",
    "Jupiter = 778547200 #km\n",
    "\n",
    "km = round(abs(Tierra-Jupiter))\n",
    "millas = round(km * 0.621)\n",
    "\n",
    "print(\"La distancia entre los planetas es \" + str(km) + \" kilómetros\")\n",
    "print(\"La distancia entre los planetas es \" + str(millas) + \" millas\")"
   ]
  },
  {
   "cell_type": "markdown",
   "metadata": {},
   "source": [
    "# Ejercicio 2: Convierte cadenas en números y usa valores absolutos"
   ]
  },
  {
   "cell_type": "code",
   "execution_count": 12,
   "metadata": {},
   "outputs": [
    {
     "name": "stdout",
     "output_type": "stream",
     "text": [
      "La distancia entre los planetas es 99600 kilómetros\n",
      "La distancia entre los planetas es 61852 millas\n"
     ]
    }
   ],
   "source": [
    "planeta1 = int(input(\"¿Cuál es la distancia del sol al planeta 1 (En kilómetros)\"))\n",
    "planeta2 = int(input(\"¿Cuál es la distancia del sol al planeta 2 (En kilómetros)\"))\n",
    "\n",
    "km = round(abs(planeta1-planeta2))\n",
    "millas = round(km * 0.621)\n",
    "\n",
    "print(\"La distancia entre los planetas es \" + str(km) + \" kilómetros\")\n",
    "print(\"La distancia entre los planetas es \" + str(millas) + \" millas\")"
   ]
  }
 ],
 "metadata": {
  "interpreter": {
   "hash": "179b05af3e25fbbb6c8c3b961c73d7cc449c9933619bcedee43c06a71ea81d4d"
  },
  "kernelspec": {
   "display_name": "Python 3.10.2 64-bit (system)",
   "language": "python",
   "name": "python3"
  },
  "language_info": {
   "codemirror_mode": {
    "name": "ipython",
    "version": 3
   },
   "file_extension": ".py",
   "mimetype": "text/x-python",
   "name": "python",
   "nbconvert_exporter": "python",
   "pygments_lexer": "ipython3",
   "version": "3.10.2"
  },
  "orig_nbformat": 4
 },
 "nbformat": 4,
 "nbformat_minor": 2
}
