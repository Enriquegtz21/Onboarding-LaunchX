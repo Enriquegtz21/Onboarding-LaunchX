{
 "cells": [
  {
   "cell_type": "code",
   "execution_count": 1,
   "metadata": {},
   "outputs": [
    {
     "name": "stdout",
     "output_type": "stream",
     "text": [
      "ADVERTENCIA, un asteroide se acerca a gran velocidad\n",
      "Nada interesante que ver...\n"
     ]
    }
   ],
   "source": [
    "vel_asteroide = 49 #km/s\n",
    "if vel_asteroide > 25:\n",
    "    print(\"ADVERTENCIA, un asteroide se acerca a gran velocidad\")\n",
    "else:\n",
    "    print(\"La velocidad del asteroide no es peligrosa\")\n",
    "\n",
    "vel_asteroide2 = 19 #km/s\n",
    "if vel_asteroide2 >= 20:\n",
    "    print(\"Hay un asteroide visible en el cielo!\")\n",
    "else:\n",
    "    print(\"Nada interesante que ver...\")"
   ]
  },
  {
   "cell_type": "code",
   "execution_count": 2,
   "metadata": {},
   "outputs": [
    {
     "name": "stdout",
     "output_type": "stream",
     "text": [
      "ADVERTENCIA, un asteroide se acerca a gran velocidad\n"
     ]
    }
   ],
   "source": [
    "vel_asteroide = 49 #km/s\n",
    "tamaño_asteroide = 20 #m\n",
    "\n",
    "if vel_asteroide > 25 or tamaño_asteroide > 25:\n",
    "    print(\"ALERTA, un asteroide peligroso se acerca a la tierra\")\n",
    "elif vel_asteroide >= 20:\n",
    "    print(\"Hay un asteroide visible en el cielo!\")\n",
    "else:\n",
    "    print(\"Nada interesante que ver...\")"
   ]
  }
 ],
 "metadata": {
  "interpreter": {
   "hash": "179b05af3e25fbbb6c8c3b961c73d7cc449c9933619bcedee43c06a71ea81d4d"
  },
  "kernelspec": {
   "display_name": "Python 3.10.2 64-bit (system)",
   "language": "python",
   "name": "python3"
  },
  "language_info": {
   "codemirror_mode": {
    "name": "ipython",
    "version": 3
   },
   "file_extension": ".py",
   "mimetype": "text/x-python",
   "name": "python",
   "nbconvert_exporter": "python",
   "pygments_lexer": "ipython3",
   "version": "3.10.2"
  },
  "orig_nbformat": 4
 },
 "nbformat": 4,
 "nbformat_minor": 2
}
